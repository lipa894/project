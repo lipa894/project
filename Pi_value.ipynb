{
  "nbformat": 4,
  "nbformat_minor": 0,
  "metadata": {
    "colab": {
      "provenance": [],
      "authorship_tag": "ABX9TyOiEijVCsfJTJx523Xp9BoK",
      "include_colab_link": true
    },
    "kernelspec": {
      "name": "python3",
      "display_name": "Python 3"
    },
    "language_info": {
      "name": "python"
    }
  },
  "cells": [
    {
      "cell_type": "markdown",
      "metadata": {
        "id": "view-in-github",
        "colab_type": "text"
      },
      "source": [
        "<a href=\"https://colab.research.google.com/github/lipa894/project/blob/main/Pi_value.ipynb\" target=\"_parent\"><img src=\"https://colab.research.google.com/assets/colab-badge.svg\" alt=\"Open In Colab\"/></a>"
      ]
    },
    {
      "cell_type": "code",
      "execution_count": 4,
      "metadata": {
        "colab": {
          "base_uri": "https://localhost:8080/"
        },
        "id": "f0Zz93T57fcJ",
        "outputId": "d0ce01d5-5edb-4f15-a9ea-2b87dabb6c02"
      },
      "outputs": [
        {
          "output_type": "stream",
          "name": "stdout",
          "text": [
            "--2024-11-09 09:37:22--  https://raw.githubusercontent.com/lipa894/project/refs/heads/main/LipaMathTest.py\n",
            "Resolving raw.githubusercontent.com (raw.githubusercontent.com)... 185.199.108.133, 185.199.109.133, 185.199.110.133, ...\n",
            "Connecting to raw.githubusercontent.com (raw.githubusercontent.com)|185.199.108.133|:443... connected.\n",
            "HTTP request sent, awaiting response... 200 OK\n",
            "Length: 248 [text/plain]\n",
            "Saving to: ‘LipaMathTest.py’\n",
            "\n",
            "LipaMathTest.py     100%[===================>]     248  --.-KB/s    in 0s      \n",
            "\n",
            "2024-11-09 09:37:22 (12.3 MB/s) - ‘LipaMathTest.py’ saved [248/248]\n",
            "\n",
            "Congratulations! Your desired pi values have been successfully\n"
          ]
        }
      ],
      "source": [
        "import pandas as pd\n",
        "import sys\n",
        "\n",
        "!wget https://raw.githubusercontent.com/lipa894/project/refs/heads/main/LipaMathTest.py\n",
        "\n",
        "sys.path.append(\"/content\")\n",
        "\n",
        "import LipaMathTest as lm\n",
        "\n",
        "df = pd.read_csv(\"/content/test.csv\")\n",
        "\n",
        "pi_val_list =[]\n",
        "\n",
        "\n",
        "for num_str in df.columns[0].split():\n",
        "  pi_val_list.append(lm.print_pi_to_n_digits(int(num_str)))\n",
        "output_df = pd.DataFrame(pi_val_list, columns=[\"PI\"])\n",
        "\n",
        "output_df.to_csv('output.csv',index=False)\n",
        "\n",
        "print(\"Congratulations! Your desired pi values have been successfully\")\n",
        "\n"
      ]
    }
  ]
}