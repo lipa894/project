{
  "nbformat": 4,
  "nbformat_minor": 0,
  "metadata": {
    "colab": {
      "provenance": [],
      "authorship_tag": "ABX9TyMpRs1I8NQJKr0YHZn9NOEn",
      "include_colab_link": true
    },
    "kernelspec": {
      "name": "python3",
      "display_name": "Python 3"
    },
    "language_info": {
      "name": "python"
    }
  },
  "cells": [
    {
      "cell_type": "markdown",
      "metadata": {
        "id": "view-in-github",
        "colab_type": "text"
      },
      "source": [
        "<a href=\"https://colab.research.google.com/github/lipa894/project/blob/main/SeriesTest.ipynb\" target=\"_parent\"><img src=\"https://colab.research.google.com/assets/colab-badge.svg\" alt=\"Open In Colab\"/></a>"
      ]
    },
    {
      "cell_type": "code",
      "execution_count": 1,
      "metadata": {
        "colab": {
          "base_uri": "https://localhost:8080/"
        },
        "id": "of0QbzHXQ7yR",
        "outputId": "992e35dd-bb28-4d86-a425-7f5384a82c29"
      },
      "outputs": [
        {
          "output_type": "stream",
          "name": "stdout",
          "text": [
            "Enter the value of n:10\n",
            "The sum of the series is: 55\n"
          ]
        }
      ],
      "source": [
        "def SeriesSum(n):\n",
        "    return n * (n+1)//2\n",
        "\n",
        "n=int(input(\"Enter the value of n:\"))\n",
        "print(\"The sum of the series is:\", SeriesSum(n))"
      ]
    }
  ]
}