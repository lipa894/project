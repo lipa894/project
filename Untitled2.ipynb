{
  "nbformat": 4,
  "nbformat_minor": 0,
  "metadata": {
    "colab": {
      "provenance": [],
      "authorship_tag": "ABX9TyMpRs1I8NQJKr0YHZn9NOEn",
      "include_colab_link": true
    },
    "kernelspec": {
      "name": "python3",
      "display_name": "Python 3"
    },
    "language_info": {
      "name": "python"
    }
  },
  "cells": [
    {
      "cell_type": "markdown",
      "metadata": {
        "id": "view-in-github",
        "colab_type": "text"
      },
      "source": [
        "<a href=\"https://colab.research.google.com/github/lipa894/project/blob/main/Untitled2.ipynb\" target=\"_parent\"><img src=\"https://colab.research.google.com/assets/colab-badge.svg\" alt=\"Open In Colab\"/></a>"
      ]
    },
    {
      "cell_type": "code",
      "execution_count": 1,
      "metadata": {
        "colab": {
          "base_uri": "https://localhost:8080/"
        },
        "id": "98yWFqeg_V0Q",
        "outputId": "b2d880cc-091d-4ea4-93f8-1067069d2d3b"
      },
      "outputs": [
        {
          "output_type": "stream",
          "name": "stdout",
          "text": [
            "Enter the value of n:10\n",
            "The sum of the series is: 55\n"
          ]
        }
      ],
      "source": [
        "def SeriesSum(n):\n",
        "    return n * (n+1)//2\n",
        "\n",
        "n=int(input(\"Enter the value of n:\"))\n",
        "print(\"The sum of the series is:\", SeriesSum(n))"
      ]
    }
  ]
}