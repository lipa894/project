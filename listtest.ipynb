{
  "nbformat": 4,
  "nbformat_minor": 0,
  "metadata": {
    "colab": {
      "provenance": [],
      "authorship_tag": "ABX9TyN92Ihi2/0LgVFmVh9WVa97",
      "include_colab_link": true
    },
    "kernelspec": {
      "name": "python3",
      "display_name": "Python 3"
    },
    "language_info": {
      "name": "python"
    }
  },
  "cells": [
    {
      "cell_type": "markdown",
      "metadata": {
        "id": "view-in-github",
        "colab_type": "text"
      },
      "source": [
        "<a href=\"https://colab.research.google.com/github/lipa894/project/blob/main/listtest.ipynb\" target=\"_parent\"><img src=\"https://colab.research.google.com/assets/colab-badge.svg\" alt=\"Open In Colab\"/></a>"
      ]
    },
    {
      "cell_type": "code",
      "execution_count": 1,
      "metadata": {
        "colab": {
          "base_uri": "https://localhost:8080/"
        },
        "id": "GpHdacY9bF3j",
        "outputId": "c8fa6cda-b995-4c0b-fad6-8210dbc3e30b"
      },
      "outputs": [
        {
          "output_type": "stream",
          "name": "stdout",
          "text": [
            "\n",
            "1) This is String Split: Letter by letter up to index 4\n",
            "\n",
            "E\n",
            "D\n",
            "G\n",
            "E\n",
            " \n",
            "\n",
            "2) After String Split, now it a list. See all\n",
            "EDGE\n",
            "Students\n",
            "are\n",
            "from\n",
            "different\n",
            "Institutions\n",
            "not\n",
            "only\n",
            "from\n",
            "MBSTU\n",
            "\n",
            "3) Printing index 2 to 4 in uppercase\n",
            "ARE\n",
            "FROM\n",
            "DIFFERENT\n"
          ]
        }
      ],
      "source": [
        "a = \"EDGE Students are from different Institutions not only from MBSTU\"\n",
        "\n",
        "print(\"\\n1) This is String Split: Letter by letter up to index 4\\n\")\n",
        "for i in a[:5]:\n",
        "    print(i)\n",
        "print(\"\\n2) After String Split, now it a list. See all\")\n",
        "b = a.split(\" \")\n",
        "for w in b:\n",
        "    print(w)\n",
        "print(\"\\n3) Printing index 2 to 4 in uppercase\")\n",
        "c = b[2:5]\n",
        "for sw in c:\n",
        "    print(sw.upper())\n"
      ]
    }
  ]
}