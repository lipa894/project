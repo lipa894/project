{
  "nbformat": 4,
  "nbformat_minor": 0,
  "metadata": {
    "colab": {
      "provenance": [],
      "authorship_tag": "ABX9TyO/qgPHdvAaa4A4Hd7LmySp",
      "include_colab_link": true
    },
    "kernelspec": {
      "name": "python3",
      "display_name": "Python 3"
    },
    "language_info": {
      "name": "python"
    }
  },
  "cells": [
    {
      "cell_type": "markdown",
      "metadata": {
        "id": "view-in-github",
        "colab_type": "text"
      },
      "source": [
        "<a href=\"https://colab.research.google.com/github/lipa894/project/blob/main/LipaMath.ipynb\" target=\"_parent\"><img src=\"https://colab.research.google.com/assets/colab-badge.svg\" alt=\"Open In Colab\"/></a>"
      ]
    },
    {
      "cell_type": "code",
      "execution_count": null,
      "metadata": {
        "colab": {
          "base_uri": "https://localhost:8080/"
        },
        "id": "N87QiwTVIaHn",
        "outputId": "0f69bbf1-e079-4893-e553-af6293702ab9"
      },
      "outputs": [
        {
          "output_type": "stream",
          "name": "stdout",
          "text": [
            "--2024-11-03 14:32:37--  https://raw.githubusercontent.com/lipa894/project/refs/heads/main/LipaMath.py\n",
            "Resolving raw.githubusercontent.com (raw.githubusercontent.com)... 185.199.108.133, 185.199.109.133, 185.199.110.133, ...\n",
            "Connecting to raw.githubusercontent.com (raw.githubusercontent.com)|185.199.108.133|:443... connected.\n",
            "HTTP request sent, awaiting response... 200 OK\n",
            "Length: 238 [text/plain]\n",
            "Saving to: ‘LipaMath.py.1’\n",
            "\n",
            "\rLipaMath.py.1         0%[                    ]       0  --.-KB/s               \rLipaMath.py.1       100%[===================>]     238  --.-KB/s    in 0s      \n",
            "\n",
            "2024-11-03 14:32:37 (3.24 MB/s) - ‘LipaMath.py.1’ saved [238/238]\n",
            "\n"
          ]
        }
      ],
      "source": [
        "import sys\n",
        "\n",
        "!wget https://raw.githubusercontent.com/lipa894/project/refs/heads/main/LipaMath.py\n",
        "\n",
        "sys.path.append('/content')\n",
        "\n",
        "import LipaMath as lm\n",
        "n = int(input(\"Enter Digit:\"))\n",
        "\n",
        "print(lm.print_pi_to_n_digits(n))\n"
      ]
    },
    {
      "cell_type": "markdown",
      "source": [
        "# New Section"
      ],
      "metadata": {
        "id": "89k25y5MZC86"
      }
    }
  ]
}